{
 "cells": [
  {
   "cell_type": "markdown",
   "id": "2b579ba5-7671-400c-813e-a4d7b8e9eec3",
   "metadata": {},
   "source": [
    "# 笔记说明\n",
    "- 鱼书第一卷的学习笔记"
   ]
  },
  {
   "cell_type": "code",
   "execution_count": null,
   "id": "6067950a-57b5-4f64-b2e1-246911b88cda",
   "metadata": {},
   "outputs": [],
   "source": []
  }
 ],
 "metadata": {
  "kernelspec": {
   "display_name": "Python 3 (ipykernel)",
   "language": "python",
   "name": "python3"
  },
  "language_info": {
   "codemirror_mode": {
    "name": "ipython",
    "version": 3
   },
   "file_extension": ".py",
   "mimetype": "text/x-python",
   "name": "python",
   "nbconvert_exporter": "python",
   "pygments_lexer": "ipython3",
   "version": "3.8.20"
  }
 },
 "nbformat": 4,
 "nbformat_minor": 5
}
